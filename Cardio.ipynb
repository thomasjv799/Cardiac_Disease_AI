{
  "nbformat": 4,
  "nbformat_minor": 0,
  "metadata": {
    "accelerator": "GPU",
    "colab": {
      "name": "Cardio.ipynb",
      "provenance": [],
      "collapsed_sections": []
    },
    "kernelspec": {
      "display_name": "Python 3",
      "name": "python3"
    },
    "language_info": {
      "name": "python"
    }
  },
  "cells": [
    {
      "cell_type": "code",
      "metadata": {
        "colab": {
          "base_uri": "https://localhost:8080/"
        },
        "id": "gWTfvWPqRnyY",
        "outputId": "8679e5d7-c6cf-4eb8-8325-b94745d06823"
      },
      "source": [
        "!git clone 'https://github.com/wanderer799/cuddly-succotash.git'"
      ],
      "execution_count": 1,
      "outputs": [
        {
          "output_type": "stream",
          "text": [
            "Cloning into 'cuddly-succotash'...\n",
            "remote: Enumerating objects: 26, done.\u001b[K\n",
            "remote: Counting objects: 100% (26/26), done.\u001b[K\n",
            "remote: Compressing objects: 100% (23/23), done.\u001b[K\n",
            "remote: Total 26 (delta 6), reused 19 (delta 2), pack-reused 0\u001b[K\n",
            "Unpacking objects: 100% (26/26), done.\n"
          ],
          "name": "stdout"
        }
      ]
    },
    {
      "cell_type": "code",
      "metadata": {
        "id": "i7QdHpEIF0w2"
      },
      "source": [
        "import pandas as pd\n",
        "import numpy as np\n",
        "import seaborn as sns\n",
        "import matplotlib.pyplot as plt\n",
        "%matplotlib inline"
      ],
      "execution_count": 2,
      "outputs": []
    },
    {
      "cell_type": "code",
      "metadata": {
        "colab": {
          "base_uri": "https://localhost:8080/",
          "height": 203
        },
        "id": "2I3iGzuWGfIU",
        "outputId": "b9c8d44b-69b8-4ec2-8f0b-6e7b6d30512e"
      },
      "source": [
        "df = pd.read_csv('/content/cuddly-succotash/Dataset/cardio_train.csv',sep = ';')\n",
        "df.head()"
      ],
      "execution_count": 3,
      "outputs": [
        {
          "output_type": "execute_result",
          "data": {
            "text/html": [
              "<div>\n",
              "<style scoped>\n",
              "    .dataframe tbody tr th:only-of-type {\n",
              "        vertical-align: middle;\n",
              "    }\n",
              "\n",
              "    .dataframe tbody tr th {\n",
              "        vertical-align: top;\n",
              "    }\n",
              "\n",
              "    .dataframe thead th {\n",
              "        text-align: right;\n",
              "    }\n",
              "</style>\n",
              "<table border=\"1\" class=\"dataframe\">\n",
              "  <thead>\n",
              "    <tr style=\"text-align: right;\">\n",
              "      <th></th>\n",
              "      <th>id</th>\n",
              "      <th>age</th>\n",
              "      <th>gender</th>\n",
              "      <th>height</th>\n",
              "      <th>weight</th>\n",
              "      <th>ap_hi</th>\n",
              "      <th>ap_lo</th>\n",
              "      <th>cholesterol</th>\n",
              "      <th>gluc</th>\n",
              "      <th>smoke</th>\n",
              "      <th>alco</th>\n",
              "      <th>active</th>\n",
              "      <th>cardio</th>\n",
              "    </tr>\n",
              "  </thead>\n",
              "  <tbody>\n",
              "    <tr>\n",
              "      <th>0</th>\n",
              "      <td>0</td>\n",
              "      <td>18393</td>\n",
              "      <td>2</td>\n",
              "      <td>168</td>\n",
              "      <td>62.0</td>\n",
              "      <td>110</td>\n",
              "      <td>80</td>\n",
              "      <td>1</td>\n",
              "      <td>1</td>\n",
              "      <td>0</td>\n",
              "      <td>0</td>\n",
              "      <td>1</td>\n",
              "      <td>0</td>\n",
              "    </tr>\n",
              "    <tr>\n",
              "      <th>1</th>\n",
              "      <td>1</td>\n",
              "      <td>20228</td>\n",
              "      <td>1</td>\n",
              "      <td>156</td>\n",
              "      <td>85.0</td>\n",
              "      <td>140</td>\n",
              "      <td>90</td>\n",
              "      <td>3</td>\n",
              "      <td>1</td>\n",
              "      <td>0</td>\n",
              "      <td>0</td>\n",
              "      <td>1</td>\n",
              "      <td>1</td>\n",
              "    </tr>\n",
              "    <tr>\n",
              "      <th>2</th>\n",
              "      <td>2</td>\n",
              "      <td>18857</td>\n",
              "      <td>1</td>\n",
              "      <td>165</td>\n",
              "      <td>64.0</td>\n",
              "      <td>130</td>\n",
              "      <td>70</td>\n",
              "      <td>3</td>\n",
              "      <td>1</td>\n",
              "      <td>0</td>\n",
              "      <td>0</td>\n",
              "      <td>0</td>\n",
              "      <td>1</td>\n",
              "    </tr>\n",
              "    <tr>\n",
              "      <th>3</th>\n",
              "      <td>3</td>\n",
              "      <td>17623</td>\n",
              "      <td>2</td>\n",
              "      <td>169</td>\n",
              "      <td>82.0</td>\n",
              "      <td>150</td>\n",
              "      <td>100</td>\n",
              "      <td>1</td>\n",
              "      <td>1</td>\n",
              "      <td>0</td>\n",
              "      <td>0</td>\n",
              "      <td>1</td>\n",
              "      <td>1</td>\n",
              "    </tr>\n",
              "    <tr>\n",
              "      <th>4</th>\n",
              "      <td>4</td>\n",
              "      <td>17474</td>\n",
              "      <td>1</td>\n",
              "      <td>156</td>\n",
              "      <td>56.0</td>\n",
              "      <td>100</td>\n",
              "      <td>60</td>\n",
              "      <td>1</td>\n",
              "      <td>1</td>\n",
              "      <td>0</td>\n",
              "      <td>0</td>\n",
              "      <td>0</td>\n",
              "      <td>0</td>\n",
              "    </tr>\n",
              "  </tbody>\n",
              "</table>\n",
              "</div>"
            ],
            "text/plain": [
              "   id    age  gender  height  weight  ...  gluc  smoke  alco  active  cardio\n",
              "0   0  18393       2     168    62.0  ...     1      0     0       1       0\n",
              "1   1  20228       1     156    85.0  ...     1      0     0       1       1\n",
              "2   2  18857       1     165    64.0  ...     1      0     0       0       1\n",
              "3   3  17623       2     169    82.0  ...     1      0     0       1       1\n",
              "4   4  17474       1     156    56.0  ...     1      0     0       0       0\n",
              "\n",
              "[5 rows x 13 columns]"
            ]
          },
          "metadata": {
            "tags": []
          },
          "execution_count": 3
        }
      ]
    },
    {
      "cell_type": "code",
      "metadata": {
        "colab": {
          "base_uri": "https://localhost:8080/"
        },
        "id": "Mh61QgseG_YO",
        "outputId": "0a9fd2f5-a05b-40c4-8425-51f7b79b6b14"
      },
      "source": [
        "df.info()"
      ],
      "execution_count": 4,
      "outputs": [
        {
          "output_type": "stream",
          "text": [
            "<class 'pandas.core.frame.DataFrame'>\n",
            "RangeIndex: 70000 entries, 0 to 69999\n",
            "Data columns (total 13 columns):\n",
            " #   Column       Non-Null Count  Dtype  \n",
            "---  ------       --------------  -----  \n",
            " 0   id           70000 non-null  int64  \n",
            " 1   age          70000 non-null  int64  \n",
            " 2   gender       70000 non-null  int64  \n",
            " 3   height       70000 non-null  int64  \n",
            " 4   weight       70000 non-null  float64\n",
            " 5   ap_hi        70000 non-null  int64  \n",
            " 6   ap_lo        70000 non-null  int64  \n",
            " 7   cholesterol  70000 non-null  int64  \n",
            " 8   gluc         70000 non-null  int64  \n",
            " 9   smoke        70000 non-null  int64  \n",
            " 10  alco         70000 non-null  int64  \n",
            " 11  active       70000 non-null  int64  \n",
            " 12  cardio       70000 non-null  int64  \n",
            "dtypes: float64(1), int64(12)\n",
            "memory usage: 6.9 MB\n"
          ],
          "name": "stdout"
        }
      ]
    },
    {
      "cell_type": "code",
      "metadata": {
        "colab": {
          "base_uri": "https://localhost:8080/",
          "height": 295
        },
        "id": "0ATcf0iGG_bi",
        "outputId": "14baae37-1dc5-4071-8ce4-7676c51b84d3"
      },
      "source": [
        "df.describe()"
      ],
      "execution_count": 5,
      "outputs": [
        {
          "output_type": "execute_result",
          "data": {
            "text/html": [
              "<div>\n",
              "<style scoped>\n",
              "    .dataframe tbody tr th:only-of-type {\n",
              "        vertical-align: middle;\n",
              "    }\n",
              "\n",
              "    .dataframe tbody tr th {\n",
              "        vertical-align: top;\n",
              "    }\n",
              "\n",
              "    .dataframe thead th {\n",
              "        text-align: right;\n",
              "    }\n",
              "</style>\n",
              "<table border=\"1\" class=\"dataframe\">\n",
              "  <thead>\n",
              "    <tr style=\"text-align: right;\">\n",
              "      <th></th>\n",
              "      <th>id</th>\n",
              "      <th>age</th>\n",
              "      <th>gender</th>\n",
              "      <th>height</th>\n",
              "      <th>weight</th>\n",
              "      <th>ap_hi</th>\n",
              "      <th>ap_lo</th>\n",
              "      <th>cholesterol</th>\n",
              "      <th>gluc</th>\n",
              "      <th>smoke</th>\n",
              "      <th>alco</th>\n",
              "      <th>active</th>\n",
              "      <th>cardio</th>\n",
              "    </tr>\n",
              "  </thead>\n",
              "  <tbody>\n",
              "    <tr>\n",
              "      <th>count</th>\n",
              "      <td>70000.000000</td>\n",
              "      <td>70000.000000</td>\n",
              "      <td>70000.000000</td>\n",
              "      <td>70000.000000</td>\n",
              "      <td>70000.000000</td>\n",
              "      <td>70000.000000</td>\n",
              "      <td>70000.000000</td>\n",
              "      <td>70000.000000</td>\n",
              "      <td>70000.000000</td>\n",
              "      <td>70000.000000</td>\n",
              "      <td>70000.000000</td>\n",
              "      <td>70000.000000</td>\n",
              "      <td>70000.000000</td>\n",
              "    </tr>\n",
              "    <tr>\n",
              "      <th>mean</th>\n",
              "      <td>49972.419900</td>\n",
              "      <td>19468.865814</td>\n",
              "      <td>1.349571</td>\n",
              "      <td>164.359229</td>\n",
              "      <td>74.205690</td>\n",
              "      <td>128.817286</td>\n",
              "      <td>96.630414</td>\n",
              "      <td>1.366871</td>\n",
              "      <td>1.226457</td>\n",
              "      <td>0.088129</td>\n",
              "      <td>0.053771</td>\n",
              "      <td>0.803729</td>\n",
              "      <td>0.499700</td>\n",
              "    </tr>\n",
              "    <tr>\n",
              "      <th>std</th>\n",
              "      <td>28851.302323</td>\n",
              "      <td>2467.251667</td>\n",
              "      <td>0.476838</td>\n",
              "      <td>8.210126</td>\n",
              "      <td>14.395757</td>\n",
              "      <td>154.011419</td>\n",
              "      <td>188.472530</td>\n",
              "      <td>0.680250</td>\n",
              "      <td>0.572270</td>\n",
              "      <td>0.283484</td>\n",
              "      <td>0.225568</td>\n",
              "      <td>0.397179</td>\n",
              "      <td>0.500003</td>\n",
              "    </tr>\n",
              "    <tr>\n",
              "      <th>min</th>\n",
              "      <td>0.000000</td>\n",
              "      <td>10798.000000</td>\n",
              "      <td>1.000000</td>\n",
              "      <td>55.000000</td>\n",
              "      <td>10.000000</td>\n",
              "      <td>-150.000000</td>\n",
              "      <td>-70.000000</td>\n",
              "      <td>1.000000</td>\n",
              "      <td>1.000000</td>\n",
              "      <td>0.000000</td>\n",
              "      <td>0.000000</td>\n",
              "      <td>0.000000</td>\n",
              "      <td>0.000000</td>\n",
              "    </tr>\n",
              "    <tr>\n",
              "      <th>25%</th>\n",
              "      <td>25006.750000</td>\n",
              "      <td>17664.000000</td>\n",
              "      <td>1.000000</td>\n",
              "      <td>159.000000</td>\n",
              "      <td>65.000000</td>\n",
              "      <td>120.000000</td>\n",
              "      <td>80.000000</td>\n",
              "      <td>1.000000</td>\n",
              "      <td>1.000000</td>\n",
              "      <td>0.000000</td>\n",
              "      <td>0.000000</td>\n",
              "      <td>1.000000</td>\n",
              "      <td>0.000000</td>\n",
              "    </tr>\n",
              "    <tr>\n",
              "      <th>50%</th>\n",
              "      <td>50001.500000</td>\n",
              "      <td>19703.000000</td>\n",
              "      <td>1.000000</td>\n",
              "      <td>165.000000</td>\n",
              "      <td>72.000000</td>\n",
              "      <td>120.000000</td>\n",
              "      <td>80.000000</td>\n",
              "      <td>1.000000</td>\n",
              "      <td>1.000000</td>\n",
              "      <td>0.000000</td>\n",
              "      <td>0.000000</td>\n",
              "      <td>1.000000</td>\n",
              "      <td>0.000000</td>\n",
              "    </tr>\n",
              "    <tr>\n",
              "      <th>75%</th>\n",
              "      <td>74889.250000</td>\n",
              "      <td>21327.000000</td>\n",
              "      <td>2.000000</td>\n",
              "      <td>170.000000</td>\n",
              "      <td>82.000000</td>\n",
              "      <td>140.000000</td>\n",
              "      <td>90.000000</td>\n",
              "      <td>2.000000</td>\n",
              "      <td>1.000000</td>\n",
              "      <td>0.000000</td>\n",
              "      <td>0.000000</td>\n",
              "      <td>1.000000</td>\n",
              "      <td>1.000000</td>\n",
              "    </tr>\n",
              "    <tr>\n",
              "      <th>max</th>\n",
              "      <td>99999.000000</td>\n",
              "      <td>23713.000000</td>\n",
              "      <td>2.000000</td>\n",
              "      <td>250.000000</td>\n",
              "      <td>200.000000</td>\n",
              "      <td>16020.000000</td>\n",
              "      <td>11000.000000</td>\n",
              "      <td>3.000000</td>\n",
              "      <td>3.000000</td>\n",
              "      <td>1.000000</td>\n",
              "      <td>1.000000</td>\n",
              "      <td>1.000000</td>\n",
              "      <td>1.000000</td>\n",
              "    </tr>\n",
              "  </tbody>\n",
              "</table>\n",
              "</div>"
            ],
            "text/plain": [
              "                 id           age  ...        active        cardio\n",
              "count  70000.000000  70000.000000  ...  70000.000000  70000.000000\n",
              "mean   49972.419900  19468.865814  ...      0.803729      0.499700\n",
              "std    28851.302323   2467.251667  ...      0.397179      0.500003\n",
              "min        0.000000  10798.000000  ...      0.000000      0.000000\n",
              "25%    25006.750000  17664.000000  ...      1.000000      0.000000\n",
              "50%    50001.500000  19703.000000  ...      1.000000      0.000000\n",
              "75%    74889.250000  21327.000000  ...      1.000000      1.000000\n",
              "max    99999.000000  23713.000000  ...      1.000000      1.000000\n",
              "\n",
              "[8 rows x 13 columns]"
            ]
          },
          "metadata": {
            "tags": []
          },
          "execution_count": 5
        }
      ]
    },
    {
      "cell_type": "code",
      "metadata": {
        "colab": {
          "base_uri": "https://localhost:8080/",
          "height": 280
        },
        "id": "n-PaxBQmPkmu",
        "outputId": "1c01688b-79c3-45da-ab5e-8138bb42b062"
      },
      "source": [
        "fig, ax = plt.subplots()\n",
        "ax.set_xlim(60, 110) \n",
        "sns.boxplot(x = df['ap_lo'], data = df, ax=ax)\n",
        "plt.show()"
      ],
      "execution_count": 6,
      "outputs": [
        {
          "output_type": "display_data",
          "data": {
            "image/png": "[encoded data removed]",
            "text/plain": [
              "<Figure size 432x288 with 1 Axes>"
            ]
          },
          "metadata": {
            "tags": [],
            "needs_background": "light"
          }
        }
      ]
    },
    {
      "cell_type": "code",
      "metadata": {
        "colab": {
          "base_uri": "https://localhost:8080/",
          "height": 297
        },
        "id": "2198PPyxShcP",
        "outputId": "147a15e9-e05c-4412-b5de-29404ecc4d0b"
      },
      "source": [
        "sns.boxplot(x = df['ap_hi'], data = df)"
      ],
      "execution_count": 7,
      "outputs": [
        {
          "output_type": "execute_result",
          "data": {
            "text/plain": [
              "<matplotlib.axes._subplots.AxesSubplot at 0x7f832e216e90>"
            ]
          },
          "metadata": {
            "tags": []
          },
          "execution_count": 7
        },
        {
          "output_type": "display_data",
          "data": {
            "image/png": "[encoded data removed]",
            "text/plain": [
              "<Figure size 432x288 with 1 Axes>"
            ]
          },
          "metadata": {
            "tags": [],
            "needs_background": "light"
          }
        }
      ]
    },
    {
      "cell_type": "code",
      "metadata": {
        "id": "SSPfxEU5T77_"
      },
      "source": [
        "#Diastolic\n",
        "new_df=df[(df['ap_hi']>90) & (df['ap_hi']<170) & (df['ap_lo']>63) & (df['ap_lo']<108)]"
      ],
      "execution_count": 8,
      "outputs": []
    },
    {
      "cell_type": "code",
      "metadata": {
        "colab": {
          "base_uri": "https://localhost:8080/",
          "height": 417
        },
        "id": "ScbO9GxYVupn",
        "outputId": "f072064a-d822-4fed-f40c-6c3da831a8c4"
      },
      "source": [
        "new_df"
      ],
      "execution_count": 9,
      "outputs": [
        {
          "output_type": "execute_result",
          "data": {
            "text/html": [
              "<div>\n",
              "<style scoped>\n",
              "    .dataframe tbody tr th:only-of-type {\n",
              "        vertical-align: middle;\n",
              "    }\n",
              "\n",
              "    .dataframe tbody tr th {\n",
              "        vertical-align: top;\n",
              "    }\n",
              "\n",
              "    .dataframe thead th {\n",
              "        text-align: right;\n",
              "    }\n",
              "</style>\n",
              "<table border=\"1\" class=\"dataframe\">\n",
              "  <thead>\n",
              "    <tr style=\"text-align: right;\">\n",
              "      <th></th>\n",
              "      <th>id</th>\n",
              "      <th>age</th>\n",
              "      <th>gender</th>\n",
              "      <th>height</th>\n",
              "      <th>weight</th>\n",
              "      <th>ap_hi</th>\n",
              "      <th>ap_lo</th>\n",
              "      <th>cholesterol</th>\n",
              "      <th>gluc</th>\n",
              "      <th>smoke</th>\n",
              "      <th>alco</th>\n",
              "      <th>active</th>\n",
              "      <th>cardio</th>\n",
              "    </tr>\n",
              "  </thead>\n",
              "  <tbody>\n",
              "    <tr>\n",
              "      <th>0</th>\n",
              "      <td>0</td>\n",
              "      <td>18393</td>\n",
              "      <td>2</td>\n",
              "      <td>168</td>\n",
              "      <td>62.0</td>\n",
              "      <td>110</td>\n",
              "      <td>80</td>\n",
              "      <td>1</td>\n",
              "      <td>1</td>\n",
              "      <td>0</td>\n",
              "      <td>0</td>\n",
              "      <td>1</td>\n",
              "      <td>0</td>\n",
              "    </tr>\n",
              "    <tr>\n",
              "      <th>1</th>\n",
              "      <td>1</td>\n",
              "      <td>20228</td>\n",
              "      <td>1</td>\n",
              "      <td>156</td>\n",
              "      <td>85.0</td>\n",
              "      <td>140</td>\n",
              "      <td>90</td>\n",
              "      <td>3</td>\n",
              "      <td>1</td>\n",
              "      <td>0</td>\n",
              "      <td>0</td>\n",
              "      <td>1</td>\n",
              "      <td>1</td>\n",
              "    </tr>\n",
              "    <tr>\n",
              "      <th>2</th>\n",
              "      <td>2</td>\n",
              "      <td>18857</td>\n",
              "      <td>1</td>\n",
              "      <td>165</td>\n",
              "      <td>64.0</td>\n",
              "      <td>130</td>\n",
              "      <td>70</td>\n",
              "      <td>3</td>\n",
              "      <td>1</td>\n",
              "      <td>0</td>\n",
              "      <td>0</td>\n",
              "      <td>0</td>\n",
              "      <td>1</td>\n",
              "    </tr>\n",
              "    <tr>\n",
              "      <th>3</th>\n",
              "      <td>3</td>\n",
              "      <td>17623</td>\n",
              "      <td>2</td>\n",
              "      <td>169</td>\n",
              "      <td>82.0</td>\n",
              "      <td>150</td>\n",
              "      <td>100</td>\n",
              "      <td>1</td>\n",
              "      <td>1</td>\n",
              "      <td>0</td>\n",
              "      <td>0</td>\n",
              "      <td>1</td>\n",
              "      <td>1</td>\n",
              "    </tr>\n",
              "    <tr>\n",
              "      <th>5</th>\n",
              "      <td>8</td>\n",
              "      <td>21914</td>\n",
              "      <td>1</td>\n",
              "      <td>151</td>\n",
              "      <td>67.0</td>\n",
              "      <td>120</td>\n",
              "      <td>80</td>\n",
              "      <td>2</td>\n",
              "      <td>2</td>\n",
              "      <td>0</td>\n",
              "      <td>0</td>\n",
              "      <td>0</td>\n",
              "      <td>0</td>\n",
              "    </tr>\n",
              "    <tr>\n",
              "      <th>...</th>\n",
              "      <td>...</td>\n",
              "      <td>...</td>\n",
              "      <td>...</td>\n",
              "      <td>...</td>\n",
              "      <td>...</td>\n",
              "      <td>...</td>\n",
              "      <td>...</td>\n",
              "      <td>...</td>\n",
              "      <td>...</td>\n",
              "      <td>...</td>\n",
              "      <td>...</td>\n",
              "      <td>...</td>\n",
              "      <td>...</td>\n",
              "    </tr>\n",
              "    <tr>\n",
              "      <th>69994</th>\n",
              "      <td>99992</td>\n",
              "      <td>21074</td>\n",
              "      <td>1</td>\n",
              "      <td>165</td>\n",
              "      <td>80.0</td>\n",
              "      <td>150</td>\n",
              "      <td>80</td>\n",
              "      <td>1</td>\n",
              "      <td>1</td>\n",
              "      <td>0</td>\n",
              "      <td>0</td>\n",
              "      <td>1</td>\n",
              "      <td>1</td>\n",
              "    </tr>\n",
              "    <tr>\n",
              "      <th>69995</th>\n",
              "      <td>99993</td>\n",
              "      <td>19240</td>\n",
              "      <td>2</td>\n",
              "      <td>168</td>\n",
              "      <td>76.0</td>\n",
              "      <td>120</td>\n",
              "      <td>80</td>\n",
              "      <td>1</td>\n",
              "      <td>1</td>\n",
              "      <td>1</td>\n",
              "      <td>0</td>\n",
              "      <td>1</td>\n",
              "      <td>0</td>\n",
              "    </tr>\n",
              "    <tr>\n",
              "      <th>69996</th>\n",
              "      <td>99995</td>\n",
              "      <td>22601</td>\n",
              "      <td>1</td>\n",
              "      <td>158</td>\n",
              "      <td>126.0</td>\n",
              "      <td>140</td>\n",
              "      <td>90</td>\n",
              "      <td>2</td>\n",
              "      <td>2</td>\n",
              "      <td>0</td>\n",
              "      <td>0</td>\n",
              "      <td>1</td>\n",
              "      <td>1</td>\n",
              "    </tr>\n",
              "    <tr>\n",
              "      <th>69998</th>\n",
              "      <td>99998</td>\n",
              "      <td>22431</td>\n",
              "      <td>1</td>\n",
              "      <td>163</td>\n",
              "      <td>72.0</td>\n",
              "      <td>135</td>\n",
              "      <td>80</td>\n",
              "      <td>1</td>\n",
              "      <td>2</td>\n",
              "      <td>0</td>\n",
              "      <td>0</td>\n",
              "      <td>0</td>\n",
              "      <td>1</td>\n",
              "    </tr>\n",
              "    <tr>\n",
              "      <th>69999</th>\n",
              "      <td>99999</td>\n",
              "      <td>20540</td>\n",
              "      <td>1</td>\n",
              "      <td>170</td>\n",
              "      <td>72.0</td>\n",
              "      <td>120</td>\n",
              "      <td>80</td>\n",
              "      <td>2</td>\n",
              "      <td>1</td>\n",
              "      <td>0</td>\n",
              "      <td>0</td>\n",
              "      <td>1</td>\n",
              "      <td>0</td>\n",
              "    </tr>\n",
              "  </tbody>\n",
              "</table>\n",
              "<p>63808 rows × 13 columns</p>\n",
              "</div>"
            ],
            "text/plain": [
              "          id    age  gender  height  weight  ...  gluc  smoke  alco  active  cardio\n",
              "0          0  18393       2     168    62.0  ...     1      0     0       1       0\n",
              "1          1  20228       1     156    85.0  ...     1      0     0       1       1\n",
              "2          2  18857       1     165    64.0  ...     1      0     0       0       1\n",
              "3          3  17623       2     169    82.0  ...     1      0     0       1       1\n",
              "5          8  21914       1     151    67.0  ...     2      0     0       0       0\n",
              "...      ...    ...     ...     ...     ...  ...   ...    ...   ...     ...     ...\n",
              "69994  99992  21074       1     165    80.0  ...     1      0     0       1       1\n",
              "69995  99993  19240       2     168    76.0  ...     1      1     0       1       0\n",
              "69996  99995  22601       1     158   126.0  ...     2      0     0       1       1\n",
              "69998  99998  22431       1     163    72.0  ...     2      0     0       0       1\n",
              "69999  99999  20540       1     170    72.0  ...     1      0     0       1       0\n",
              "\n",
              "[63808 rows x 13 columns]"
            ]
          },
          "metadata": {
            "tags": []
          },
          "execution_count": 9
        }
      ]
    },
    {
      "cell_type": "code",
      "metadata": {
        "colab": {
          "base_uri": "https://localhost:8080/",
          "height": 297
        },
        "id": "XVUyeCRMV24l",
        "outputId": "47cb5e12-96e7-4ab1-a658-daef09e18e08"
      },
      "source": [
        "sns.boxplot(x = new_df['ap_lo'], data = new_df)"
      ],
      "execution_count": 10,
      "outputs": [
        {
          "output_type": "execute_result",
          "data": {
            "text/plain": [
              "<matplotlib.axes._subplots.AxesSubplot at 0x7f832df2a610>"
            ]
          },
          "metadata": {
            "tags": []
          },
          "execution_count": 10
        },
        {
          "output_type": "display_data",
          "data": {
            "image/png": "[encoded data removed]",
            "text/plain": [
              "<Figure size 432x288 with 1 Axes>"
            ]
          },
          "metadata": {
            "tags": [],
            "needs_background": "light"
          }
        }
      ]
    },
    {
      "cell_type": "code",
      "metadata": {
        "colab": {
          "base_uri": "https://localhost:8080/",
          "height": 304
        },
        "id": "EO2a_68FOXWz",
        "outputId": "e83964ab-6e71-4c8c-aed9-1dd07a3ce74c"
      },
      "source": [
        "new_df['age'] = (new_df['age']/365).astype(int)\n",
        "new_df.head()"
      ],
      "execution_count": 11,
      "outputs": [
        {
          "output_type": "stream",
          "text": [
            "/usr/local/lib/python3.7/dist-packages/ipykernel_launcher.py:1: SettingWithCopyWarning: \n",
            "A value is trying to be set on a copy of a slice from a DataFrame.\n",
            "Try using .loc[row_indexer,col_indexer] = value instead\n",
            "\n",
            "See the caveats in the documentation: https://pandas.pydata.org/pandas-docs/stable/user_guide/indexing.html#returning-a-view-versus-a-copy\n",
            "  \"\"\"Entry point for launching an IPython kernel.\n"
          ],
          "name": "stderr"
        },
        {
          "output_type": "execute_result",
          "data": {
            "text/html": [
              "<div>\n",
              "<style scoped>\n",
              "    .dataframe tbody tr th:only-of-type {\n",
              "        vertical-align: middle;\n",
              "    }\n",
              "\n",
              "    .dataframe tbody tr th {\n",
              "        vertical-align: top;\n",
              "    }\n",
              "\n",
              "    .dataframe thead th {\n",
              "        text-align: right;\n",
              "    }\n",
              "</style>\n",
              "<table border=\"1\" class=\"dataframe\">\n",
              "  <thead>\n",
              "    <tr style=\"text-align: right;\">\n",
              "      <th></th>\n",
              "      <th>id</th>\n",
              "      <th>age</th>\n",
              "      <th>gender</th>\n",
              "      <th>height</th>\n",
              "      <th>weight</th>\n",
              "      <th>ap_hi</th>\n",
              "      <th>ap_lo</th>\n",
              "      <th>cholesterol</th>\n",
              "      <th>gluc</th>\n",
              "      <th>smoke</th>\n",
              "      <th>alco</th>\n",
              "      <th>active</th>\n",
              "      <th>cardio</th>\n",
              "    </tr>\n",
              "  </thead>\n",
              "  <tbody>\n",
              "    <tr>\n",
              "      <th>0</th>\n",
              "      <td>0</td>\n",
              "      <td>50</td>\n",
              "      <td>2</td>\n",
              "      <td>168</td>\n",
              "      <td>62.0</td>\n",
              "      <td>110</td>\n",
              "      <td>80</td>\n",
              "      <td>1</td>\n",
              "      <td>1</td>\n",
              "      <td>0</td>\n",
              "      <td>0</td>\n",
              "      <td>1</td>\n",
              "      <td>0</td>\n",
              "    </tr>\n",
              "    <tr>\n",
              "      <th>1</th>\n",
              "      <td>1</td>\n",
              "      <td>55</td>\n",
              "      <td>1</td>\n",
              "      <td>156</td>\n",
              "      <td>85.0</td>\n",
              "      <td>140</td>\n",
              "      <td>90</td>\n",
              "      <td>3</td>\n",
              "      <td>1</td>\n",
              "      <td>0</td>\n",
              "      <td>0</td>\n",
              "      <td>1</td>\n",
              "      <td>1</td>\n",
              "    </tr>\n",
              "    <tr>\n",
              "      <th>2</th>\n",
              "      <td>2</td>\n",
              "      <td>51</td>\n",
              "      <td>1</td>\n",
              "      <td>165</td>\n",
              "      <td>64.0</td>\n",
              "      <td>130</td>\n",
              "      <td>70</td>\n",
              "      <td>3</td>\n",
              "      <td>1</td>\n",
              "      <td>0</td>\n",
              "      <td>0</td>\n",
              "      <td>0</td>\n",
              "      <td>1</td>\n",
              "    </tr>\n",
              "    <tr>\n",
              "      <th>3</th>\n",
              "      <td>3</td>\n",
              "      <td>48</td>\n",
              "      <td>2</td>\n",
              "      <td>169</td>\n",
              "      <td>82.0</td>\n",
              "      <td>150</td>\n",
              "      <td>100</td>\n",
              "      <td>1</td>\n",
              "      <td>1</td>\n",
              "      <td>0</td>\n",
              "      <td>0</td>\n",
              "      <td>1</td>\n",
              "      <td>1</td>\n",
              "    </tr>\n",
              "    <tr>\n",
              "      <th>5</th>\n",
              "      <td>8</td>\n",
              "      <td>60</td>\n",
              "      <td>1</td>\n",
              "      <td>151</td>\n",
              "      <td>67.0</td>\n",
              "      <td>120</td>\n",
              "      <td>80</td>\n",
              "      <td>2</td>\n",
              "      <td>2</td>\n",
              "      <td>0</td>\n",
              "      <td>0</td>\n",
              "      <td>0</td>\n",
              "      <td>0</td>\n",
              "    </tr>\n",
              "  </tbody>\n",
              "</table>\n",
              "</div>"
            ],
            "text/plain": [
              "   id  age  gender  height  weight  ...  gluc  smoke  alco  active  cardio\n",
              "0   0   50       2     168    62.0  ...     1      0     0       1       0\n",
              "1   1   55       1     156    85.0  ...     1      0     0       1       1\n",
              "2   2   51       1     165    64.0  ...     1      0     0       0       1\n",
              "3   3   48       2     169    82.0  ...     1      0     0       1       1\n",
              "5   8   60       1     151    67.0  ...     2      0     0       0       0\n",
              "\n",
              "[5 rows x 13 columns]"
            ]
          },
          "metadata": {
            "tags": []
          },
          "execution_count": 11
        }
      ]
    },
    {
      "cell_type": "code",
      "metadata": {
        "colab": {
          "base_uri": "https://localhost:8080/"
        },
        "id": "T4-rW8CaWgCU",
        "outputId": "c407dcb6-121a-422b-a1e9-7504164d2092"
      },
      "source": [
        "new_df['gender']=pd.get_dummies(new_df['gender'],drop_first=True)"
      ],
      "execution_count": 12,
      "outputs": [
        {
          "output_type": "stream",
          "text": [
            "/usr/local/lib/python3.7/dist-packages/ipykernel_launcher.py:1: SettingWithCopyWarning: \n",
            "A value is trying to be set on a copy of a slice from a DataFrame.\n",
            "Try using .loc[row_indexer,col_indexer] = value instead\n",
            "\n",
            "See the caveats in the documentation: https://pandas.pydata.org/pandas-docs/stable/user_guide/indexing.html#returning-a-view-versus-a-copy\n",
            "  \"\"\"Entry point for launching an IPython kernel.\n"
          ],
          "name": "stderr"
        }
      ]
    },
    {
      "cell_type": "code",
      "metadata": {
        "id": "lEpRNz9FXkHj"
      },
      "source": [
        "new_df=new_df.drop(['id'],axis=1)"
      ],
      "execution_count": 13,
      "outputs": []
    },
    {
      "cell_type": "code",
      "metadata": {
        "colab": {
          "base_uri": "https://localhost:8080/",
          "height": 418
        },
        "id": "jKf42EScVSoE",
        "outputId": "6cb16ced-8222-4b11-d6a5-63184c1269b1"
      },
      "source": [
        "new_df.corr()"
      ],
      "execution_count": 14,
      "outputs": [
        {
          "output_type": "execute_result",
          "data": {
            "text/html": [
              "<div>\n",
              "<style scoped>\n",
              "    .dataframe tbody tr th:only-of-type {\n",
              "        vertical-align: middle;\n",
              "    }\n",
              "\n",
              "    .dataframe tbody tr th {\n",
              "        vertical-align: top;\n",
              "    }\n",
              "\n",
              "    .dataframe thead th {\n",
              "        text-align: right;\n",
              "    }\n",
              "</style>\n",
              "<table border=\"1\" class=\"dataframe\">\n",
              "  <thead>\n",
              "    <tr style=\"text-align: right;\">\n",
              "      <th></th>\n",
              "      <th>age</th>\n",
              "      <th>gender</th>\n",
              "      <th>height</th>\n",
              "      <th>weight</th>\n",
              "      <th>ap_hi</th>\n",
              "      <th>ap_lo</th>\n",
              "      <th>cholesterol</th>\n",
              "      <th>gluc</th>\n",
              "      <th>smoke</th>\n",
              "      <th>alco</th>\n",
              "      <th>active</th>\n",
              "      <th>cardio</th>\n",
              "    </tr>\n",
              "  </thead>\n",
              "  <tbody>\n",
              "    <tr>\n",
              "      <th>age</th>\n",
              "      <td>1.000000</td>\n",
              "      <td>-0.034290</td>\n",
              "      <td>-0.090626</td>\n",
              "      <td>0.040942</td>\n",
              "      <td>0.197858</td>\n",
              "      <td>0.139279</td>\n",
              "      <td>0.151872</td>\n",
              "      <td>0.095127</td>\n",
              "      <td>-0.050805</td>\n",
              "      <td>-0.030163</td>\n",
              "      <td>-0.010181</td>\n",
              "      <td>0.230959</td>\n",
              "    </tr>\n",
              "    <tr>\n",
              "      <th>gender</th>\n",
              "      <td>-0.034290</td>\n",
              "      <td>1.000000</td>\n",
              "      <td>0.496440</td>\n",
              "      <td>0.152364</td>\n",
              "      <td>0.041035</td>\n",
              "      <td>0.047097</td>\n",
              "      <td>-0.041778</td>\n",
              "      <td>-0.023815</td>\n",
              "      <td>0.336670</td>\n",
              "      <td>0.169017</td>\n",
              "      <td>0.005984</td>\n",
              "      <td>-0.003384</td>\n",
              "    </tr>\n",
              "    <tr>\n",
              "      <th>height</th>\n",
              "      <td>-0.090626</td>\n",
              "      <td>0.496440</td>\n",
              "      <td>1.000000</td>\n",
              "      <td>0.288635</td>\n",
              "      <td>-0.003668</td>\n",
              "      <td>0.013132</td>\n",
              "      <td>-0.055372</td>\n",
              "      <td>-0.021806</td>\n",
              "      <td>0.186273</td>\n",
              "      <td>0.093815</td>\n",
              "      <td>-0.009567</td>\n",
              "      <td>-0.020637</td>\n",
              "    </tr>\n",
              "    <tr>\n",
              "      <th>weight</th>\n",
              "      <td>0.040942</td>\n",
              "      <td>0.152364</td>\n",
              "      <td>0.288635</td>\n",
              "      <td>1.000000</td>\n",
              "      <td>0.236157</td>\n",
              "      <td>0.214727</td>\n",
              "      <td>0.134607</td>\n",
              "      <td>0.100340</td>\n",
              "      <td>0.067567</td>\n",
              "      <td>0.065249</td>\n",
              "      <td>-0.015476</td>\n",
              "      <td>0.162270</td>\n",
              "    </tr>\n",
              "    <tr>\n",
              "      <th>ap_hi</th>\n",
              "      <td>0.197858</td>\n",
              "      <td>0.041035</td>\n",
              "      <td>-0.003668</td>\n",
              "      <td>0.236157</td>\n",
              "      <td>1.000000</td>\n",
              "      <td>0.704824</td>\n",
              "      <td>0.192074</td>\n",
              "      <td>0.088484</td>\n",
              "      <td>0.023083</td>\n",
              "      <td>0.027593</td>\n",
              "      <td>0.002234</td>\n",
              "      <td>0.430201</td>\n",
              "    </tr>\n",
              "    <tr>\n",
              "      <th>ap_lo</th>\n",
              "      <td>0.139279</td>\n",
              "      <td>0.047097</td>\n",
              "      <td>0.013132</td>\n",
              "      <td>0.214727</td>\n",
              "      <td>0.704824</td>\n",
              "      <td>1.000000</td>\n",
              "      <td>0.155327</td>\n",
              "      <td>0.066781</td>\n",
              "      <td>0.021073</td>\n",
              "      <td>0.031418</td>\n",
              "      <td>0.000124</td>\n",
              "      <td>0.332031</td>\n",
              "    </tr>\n",
              "    <tr>\n",
              "      <th>cholesterol</th>\n",
              "      <td>0.151872</td>\n",
              "      <td>-0.041778</td>\n",
              "      <td>-0.055372</td>\n",
              "      <td>0.134607</td>\n",
              "      <td>0.192074</td>\n",
              "      <td>0.155327</td>\n",
              "      <td>1.000000</td>\n",
              "      <td>0.452510</td>\n",
              "      <td>0.007922</td>\n",
              "      <td>0.030363</td>\n",
              "      <td>0.009485</td>\n",
              "      <td>0.218622</td>\n",
              "    </tr>\n",
              "    <tr>\n",
              "      <th>gluc</th>\n",
              "      <td>0.095127</td>\n",
              "      <td>-0.023815</td>\n",
              "      <td>-0.021806</td>\n",
              "      <td>0.100340</td>\n",
              "      <td>0.088484</td>\n",
              "      <td>0.066781</td>\n",
              "      <td>0.452510</td>\n",
              "      <td>1.000000</td>\n",
              "      <td>-0.006260</td>\n",
              "      <td>0.007957</td>\n",
              "      <td>-0.007415</td>\n",
              "      <td>0.085905</td>\n",
              "    </tr>\n",
              "    <tr>\n",
              "      <th>smoke</th>\n",
              "      <td>-0.050805</td>\n",
              "      <td>0.336670</td>\n",
              "      <td>0.186273</td>\n",
              "      <td>0.067567</td>\n",
              "      <td>0.023083</td>\n",
              "      <td>0.021073</td>\n",
              "      <td>0.007922</td>\n",
              "      <td>-0.006260</td>\n",
              "      <td>1.000000</td>\n",
              "      <td>0.341244</td>\n",
              "      <td>0.023790</td>\n",
              "      <td>-0.019563</td>\n",
              "    </tr>\n",
              "    <tr>\n",
              "      <th>alco</th>\n",
              "      <td>-0.030163</td>\n",
              "      <td>0.169017</td>\n",
              "      <td>0.093815</td>\n",
              "      <td>0.065249</td>\n",
              "      <td>0.027593</td>\n",
              "      <td>0.031418</td>\n",
              "      <td>0.030363</td>\n",
              "      <td>0.007957</td>\n",
              "      <td>0.341244</td>\n",
              "      <td>1.000000</td>\n",
              "      <td>0.024229</td>\n",
              "      <td>-0.011968</td>\n",
              "    </tr>\n",
              "    <tr>\n",
              "      <th>active</th>\n",
              "      <td>-0.010181</td>\n",
              "      <td>0.005984</td>\n",
              "      <td>-0.009567</td>\n",
              "      <td>-0.015476</td>\n",
              "      <td>0.002234</td>\n",
              "      <td>0.000124</td>\n",
              "      <td>0.009485</td>\n",
              "      <td>-0.007415</td>\n",
              "      <td>0.023790</td>\n",
              "      <td>0.024229</td>\n",
              "      <td>1.000000</td>\n",
              "      <td>-0.037710</td>\n",
              "    </tr>\n",
              "    <tr>\n",
              "      <th>cardio</th>\n",
              "      <td>0.230959</td>\n",
              "      <td>-0.003384</td>\n",
              "      <td>-0.020637</td>\n",
              "      <td>0.162270</td>\n",
              "      <td>0.430201</td>\n",
              "      <td>0.332031</td>\n",
              "      <td>0.218622</td>\n",
              "      <td>0.085905</td>\n",
              "      <td>-0.019563</td>\n",
              "      <td>-0.011968</td>\n",
              "      <td>-0.037710</td>\n",
              "      <td>1.000000</td>\n",
              "    </tr>\n",
              "  </tbody>\n",
              "</table>\n",
              "</div>"
            ],
            "text/plain": [
              "                  age    gender    height  ...      alco    active    cardio\n",
              "age          1.000000 -0.034290 -0.090626  ... -0.030163 -0.010181  0.230959\n",
              "gender      -0.034290  1.000000  0.496440  ...  0.169017  0.005984 -0.003384\n",
              "height      -0.090626  0.496440  1.000000  ...  0.093815 -0.009567 -0.020637\n",
              "weight       0.040942  0.152364  0.288635  ...  0.065249 -0.015476  0.162270\n",
              "ap_hi        0.197858  0.041035 -0.003668  ...  0.027593  0.002234  0.430201\n",
              "ap_lo        0.139279  0.047097  0.013132  ...  0.031418  0.000124  0.332031\n",
              "cholesterol  0.151872 -0.041778 -0.055372  ...  0.030363  0.009485  0.218622\n",
              "gluc         0.095127 -0.023815 -0.021806  ...  0.007957 -0.007415  0.085905\n",
              "smoke       -0.050805  0.336670  0.186273  ...  0.341244  0.023790 -0.019563\n",
              "alco        -0.030163  0.169017  0.093815  ...  1.000000  0.024229 -0.011968\n",
              "active      -0.010181  0.005984 -0.009567  ...  0.024229  1.000000 -0.037710\n",
              "cardio       0.230959 -0.003384 -0.020637  ... -0.011968 -0.037710  1.000000\n",
              "\n",
              "[12 rows x 12 columns]"
            ]
          },
          "metadata": {
            "tags": []
          },
          "execution_count": 14
        }
      ]
    },
    {
      "cell_type": "code",
      "metadata": {
        "colab": {
          "base_uri": "https://localhost:8080/",
          "height": 396
        },
        "id": "O9V-3e6WVAyg",
        "outputId": "eef914b4-7397-4311-addc-6b7dff74c740"
      },
      "source": [
        "plt.figure(figsize=(16, 6))\n",
        "sns.heatmap(new_df.corr())"
      ],
      "execution_count": 15,
      "outputs": [
        {
          "output_type": "execute_result",
          "data": {
            "text/plain": [
              "<matplotlib.axes._subplots.AxesSubplot at 0x7f832d69a510>"
            ]
          },
          "metadata": {
            "tags": []
          },
          "execution_count": 15
        },
        {
          "output_type": "display_data",
          "data": {
            "image/png": "[encoded data removed]",
            "text/plain": [
              "<Figure size 1152x432 with 2 Axes>"
            ]
          },
          "metadata": {
            "tags": [],
            "needs_background": "light"
          }
        }
      ]
    },
    {
      "cell_type": "code",
      "metadata": {
        "id": "fLRcigYenD_w"
      },
      "source": [
        "from sklearn.preprocessing import MinMaxScaler\n",
        "ms = MinMaxScaler()\n"
      ],
      "execution_count": 16,
      "outputs": []
    },
    {
      "cell_type": "code",
      "metadata": {
        "id": "bCqVMoBTpXQw"
      },
      "source": [
        "new_df[['age','height','weight','cholesterol','ap_hi','ap_lo']]=ms.fit_transform(new_df[['age','height','weight','cholesterol','ap_hi','ap_lo']])"
      ],
      "execution_count": 17,
      "outputs": []
    },
    {
      "cell_type": "code",
      "metadata": {
        "colab": {
          "base_uri": "https://localhost:8080/",
          "height": 418
        },
        "id": "aL7wgoK0qBrG",
        "outputId": "fb2fbefd-56e8-4c97-d163-8f64dee1d49f"
      },
      "source": [
        "new_df.corr()"
      ],
      "execution_count": 18,
      "outputs": [
        {
          "output_type": "execute_result",
          "data": {
            "text/html": [
              "<div>\n",
              "<style scoped>\n",
              "    .dataframe tbody tr th:only-of-type {\n",
              "        vertical-align: middle;\n",
              "    }\n",
              "\n",
              "    .dataframe tbody tr th {\n",
              "        vertical-align: top;\n",
              "    }\n",
              "\n",
              "    .dataframe thead th {\n",
              "        text-align: right;\n",
              "    }\n",
              "</style>\n",
              "<table border=\"1\" class=\"dataframe\">\n",
              "  <thead>\n",
              "    <tr style=\"text-align: right;\">\n",
              "      <th></th>\n",
              "      <th>age</th>\n",
              "      <th>gender</th>\n",
              "      <th>height</th>\n",
              "      <th>weight</th>\n",
              "      <th>ap_hi</th>\n",
              "      <th>ap_lo</th>\n",
              "      <th>cholesterol</th>\n",
              "      <th>gluc</th>\n",
              "      <th>smoke</th>\n",
              "      <th>alco</th>\n",
              "      <th>active</th>\n",
              "      <th>cardio</th>\n",
              "    </tr>\n",
              "  </thead>\n",
              "  <tbody>\n",
              "    <tr>\n",
              "      <th>age</th>\n",
              "      <td>1.000000</td>\n",
              "      <td>-0.034290</td>\n",
              "      <td>-0.090626</td>\n",
              "      <td>0.040942</td>\n",
              "      <td>0.197858</td>\n",
              "      <td>0.139279</td>\n",
              "      <td>0.151872</td>\n",
              "      <td>0.095127</td>\n",
              "      <td>-0.050805</td>\n",
              "      <td>-0.030163</td>\n",
              "      <td>-0.010181</td>\n",
              "      <td>0.230959</td>\n",
              "    </tr>\n",
              "    <tr>\n",
              "      <th>gender</th>\n",
              "      <td>-0.034290</td>\n",
              "      <td>1.000000</td>\n",
              "      <td>0.496440</td>\n",
              "      <td>0.152364</td>\n",
              "      <td>0.041035</td>\n",
              "      <td>0.047097</td>\n",
              "      <td>-0.041778</td>\n",
              "      <td>-0.023815</td>\n",
              "      <td>0.336670</td>\n",
              "      <td>0.169017</td>\n",
              "      <td>0.005984</td>\n",
              "      <td>-0.003384</td>\n",
              "    </tr>\n",
              "    <tr>\n",
              "      <th>height</th>\n",
              "      <td>-0.090626</td>\n",
              "      <td>0.496440</td>\n",
              "      <td>1.000000</td>\n",
              "      <td>0.288635</td>\n",
              "      <td>-0.003668</td>\n",
              "      <td>0.013132</td>\n",
              "      <td>-0.055372</td>\n",
              "      <td>-0.021806</td>\n",
              "      <td>0.186273</td>\n",
              "      <td>0.093815</td>\n",
              "      <td>-0.009567</td>\n",
              "      <td>-0.020637</td>\n",
              "    </tr>\n",
              "    <tr>\n",
              "      <th>weight</th>\n",
              "      <td>0.040942</td>\n",
              "      <td>0.152364</td>\n",
              "      <td>0.288635</td>\n",
              "      <td>1.000000</td>\n",
              "      <td>0.236157</td>\n",
              "      <td>0.214727</td>\n",
              "      <td>0.134607</td>\n",
              "      <td>0.100340</td>\n",
              "      <td>0.067567</td>\n",
              "      <td>0.065249</td>\n",
              "      <td>-0.015476</td>\n",
              "      <td>0.162270</td>\n",
              "    </tr>\n",
              "    <tr>\n",
              "      <th>ap_hi</th>\n",
              "      <td>0.197858</td>\n",
              "      <td>0.041035</td>\n",
              "      <td>-0.003668</td>\n",
              "      <td>0.236157</td>\n",
              "      <td>1.000000</td>\n",
              "      <td>0.704824</td>\n",
              "      <td>0.192074</td>\n",
              "      <td>0.088484</td>\n",
              "      <td>0.023083</td>\n",
              "      <td>0.027593</td>\n",
              "      <td>0.002234</td>\n",
              "      <td>0.430201</td>\n",
              "    </tr>\n",
              "    <tr>\n",
              "      <th>ap_lo</th>\n",
              "      <td>0.139279</td>\n",
              "      <td>0.047097</td>\n",
              "      <td>0.013132</td>\n",
              "      <td>0.214727</td>\n",
              "      <td>0.704824</td>\n",
              "      <td>1.000000</td>\n",
              "      <td>0.155327</td>\n",
              "      <td>0.066781</td>\n",
              "      <td>0.021073</td>\n",
              "      <td>0.031418</td>\n",
              "      <td>0.000124</td>\n",
              "      <td>0.332031</td>\n",
              "    </tr>\n",
              "    <tr>\n",
              "      <th>cholesterol</th>\n",
              "      <td>0.151872</td>\n",
              "      <td>-0.041778</td>\n",
              "      <td>-0.055372</td>\n",
              "      <td>0.134607</td>\n",
              "      <td>0.192074</td>\n",
              "      <td>0.155327</td>\n",
              "      <td>1.000000</td>\n",
              "      <td>0.452510</td>\n",
              "      <td>0.007922</td>\n",
              "      <td>0.030363</td>\n",
              "      <td>0.009485</td>\n",
              "      <td>0.218622</td>\n",
              "    </tr>\n",
              "    <tr>\n",
              "      <th>gluc</th>\n",
              "      <td>0.095127</td>\n",
              "      <td>-0.023815</td>\n",
              "      <td>-0.021806</td>\n",
              "      <td>0.100340</td>\n",
              "      <td>0.088484</td>\n",
              "      <td>0.066781</td>\n",
              "      <td>0.452510</td>\n",
              "      <td>1.000000</td>\n",
              "      <td>-0.006260</td>\n",
              "      <td>0.007957</td>\n",
              "      <td>-0.007415</td>\n",
              "      <td>0.085905</td>\n",
              "    </tr>\n",
              "    <tr>\n",
              "      <th>smoke</th>\n",
              "      <td>-0.050805</td>\n",
              "      <td>0.336670</td>\n",
              "      <td>0.186273</td>\n",
              "      <td>0.067567</td>\n",
              "      <td>0.023083</td>\n",
              "      <td>0.021073</td>\n",
              "      <td>0.007922</td>\n",
              "      <td>-0.006260</td>\n",
              "      <td>1.000000</td>\n",
              "      <td>0.341244</td>\n",
              "      <td>0.023790</td>\n",
              "      <td>-0.019563</td>\n",
              "    </tr>\n",
              "    <tr>\n",
              "      <th>alco</th>\n",
              "      <td>-0.030163</td>\n",
              "      <td>0.169017</td>\n",
              "      <td>0.093815</td>\n",
              "      <td>0.065249</td>\n",
              "      <td>0.027593</td>\n",
              "      <td>0.031418</td>\n",
              "      <td>0.030363</td>\n",
              "      <td>0.007957</td>\n",
              "      <td>0.341244</td>\n",
              "      <td>1.000000</td>\n",
              "      <td>0.024229</td>\n",
              "      <td>-0.011968</td>\n",
              "    </tr>\n",
              "    <tr>\n",
              "      <th>active</th>\n",
              "      <td>-0.010181</td>\n",
              "      <td>0.005984</td>\n",
              "      <td>-0.009567</td>\n",
              "      <td>-0.015476</td>\n",
              "      <td>0.002234</td>\n",
              "      <td>0.000124</td>\n",
              "      <td>0.009485</td>\n",
              "      <td>-0.007415</td>\n",
              "      <td>0.023790</td>\n",
              "      <td>0.024229</td>\n",
              "      <td>1.000000</td>\n",
              "      <td>-0.037710</td>\n",
              "    </tr>\n",
              "    <tr>\n",
              "      <th>cardio</th>\n",
              "      <td>0.230959</td>\n",
              "      <td>-0.003384</td>\n",
              "      <td>-0.020637</td>\n",
              "      <td>0.162270</td>\n",
              "      <td>0.430201</td>\n",
              "      <td>0.332031</td>\n",
              "      <td>0.218622</td>\n",
              "      <td>0.085905</td>\n",
              "      <td>-0.019563</td>\n",
              "      <td>-0.011968</td>\n",
              "      <td>-0.037710</td>\n",
              "      <td>1.000000</td>\n",
              "    </tr>\n",
              "  </tbody>\n",
              "</table>\n",
              "</div>"
            ],
            "text/plain": [
              "                  age    gender    height  ...      alco    active    cardio\n",
              "age          1.000000 -0.034290 -0.090626  ... -0.030163 -0.010181  0.230959\n",
              "gender      -0.034290  1.000000  0.496440  ...  0.169017  0.005984 -0.003384\n",
              "height      -0.090626  0.496440  1.000000  ...  0.093815 -0.009567 -0.020637\n",
              "weight       0.040942  0.152364  0.288635  ...  0.065249 -0.015476  0.162270\n",
              "ap_hi        0.197858  0.041035 -0.003668  ...  0.027593  0.002234  0.430201\n",
              "ap_lo        0.139279  0.047097  0.013132  ...  0.031418  0.000124  0.332031\n",
              "cholesterol  0.151872 -0.041778 -0.055372  ...  0.030363  0.009485  0.218622\n",
              "gluc         0.095127 -0.023815 -0.021806  ...  0.007957 -0.007415  0.085905\n",
              "smoke       -0.050805  0.336670  0.186273  ...  0.341244  0.023790 -0.019563\n",
              "alco        -0.030163  0.169017  0.093815  ...  1.000000  0.024229 -0.011968\n",
              "active      -0.010181  0.005984 -0.009567  ...  0.024229  1.000000 -0.037710\n",
              "cardio       0.230959 -0.003384 -0.020637  ... -0.011968 -0.037710  1.000000\n",
              "\n",
              "[12 rows x 12 columns]"
            ]
          },
          "metadata": {
            "tags": []
          },
          "execution_count": 18
        }
      ]
    },
    {
      "cell_type": "code",
      "metadata": {
        "colab": {
          "base_uri": "https://localhost:8080/",
          "height": 582
        },
        "id": "DxgJSZ6K8XWF",
        "outputId": "90b3d53c-e18c-4661-bede-558669b2bc41"
      },
      "source": [
        "corr=new_df.corr()\n",
        "\n",
        "mask = np.zeros_like(corr, dtype=np.bool)\n",
        "mask[np.triu_indices_from(mask)] = True\n",
        "\n",
        "cmap = sns.diverging_palette(1,200, as_cmap=True)\n",
        "\n",
        "\n",
        "g=sns.heatmap(corr, data=new_df,mask=mask, cmap=cmap, vmax=.3, center=0,\n",
        "            square=True, linewidths=.5, cbar_kws={\"shrink\": .5}, annot  = True)\n",
        "g.figure.set_size_inches(11,9)"
      ],
      "execution_count": 19,
      "outputs": [
        {
          "output_type": "display_data",
          "data": {
            "image/png": "[encoded data removed]",
            "text/plain": [
              "<Figure size 792x648 with 2 Axes>"
            ]
          },
          "metadata": {
            "tags": [],
            "needs_background": "light"
          }
        }
      ]
    },
    {
      "cell_type": "code",
      "metadata": {
        "id": "CiEinwZLX6iR"
      },
      "source": [
        "from sklearn.model_selection import train_test_split"
      ],
      "execution_count": 20,
      "outputs": []
    },
    {
      "cell_type": "code",
      "metadata": {
        "id": "4Un56UNmYXax"
      },
      "source": [
        "X=new_df.drop(['cardio'],axis=1)"
      ],
      "execution_count": 21,
      "outputs": []
    },
    {
      "cell_type": "code",
      "metadata": {
        "id": "_Z4_KNSnYpON"
      },
      "source": [
        "y=new_df['cardio']"
      ],
      "execution_count": 22,
      "outputs": []
    },
    {
      "cell_type": "code",
      "metadata": {
        "id": "dVQZulIFYTOS"
      },
      "source": [
        "X_train, X_test, y_train, y_test = train_test_split(X, y, test_size=.2, random_state=42)"
      ],
      "execution_count": 23,
      "outputs": []
    },
    {
      "cell_type": "code",
      "metadata": {
        "id": "FjrNo-B4-LNJ"
      },
      "source": [
        "import warnings\n",
        "warnings.filterwarnings(\"ignore\")"
      ],
      "execution_count": null,
      "outputs": []
    },
    {
      "cell_type": "code",
      "metadata": {
        "colab": {
          "base_uri": "https://localhost:8080/",
          "height": 203
        },
        "id": "Tf4-8_C99YpS",
        "outputId": "cff8160e-1ee9-4139-e824-498365cde38a"
      },
      "source": [
        "cont_cols = ['age', 'height', 'weight', 'ap_hi', 'ap_lo']\n",
        "ord_cols = ['cholesterol', 'gluc']\n",
        "bin_cols = ['gender', 'smoke', 'alco', 'active', 'cardio']\n",
        "\n",
        "df_scaled = ms.fit_transform(new_df[cont_cols])\n",
        "\n",
        "\n",
        "df_normalized = pd.DataFrame(df_scaled)\n",
        "df_normalized.columns = cont_cols\n",
        "df_normalized.head()"
      ],
      "execution_count": null,
      "outputs": [
        {
          "output_type": "execute_result",
          "data": {
            "text/html": [
              "<div>\n",
              "<style scoped>\n",
              "    .dataframe tbody tr th:only-of-type {\n",
              "        vertical-align: middle;\n",
              "    }\n",
              "\n",
              "    .dataframe tbody tr th {\n",
              "        vertical-align: top;\n",
              "    }\n",
              "\n",
              "    .dataframe thead th {\n",
              "        text-align: right;\n",
              "    }\n",
              "</style>\n",
              "<table border=\"1\" class=\"dataframe\">\n",
              "  <thead>\n",
              "    <tr style=\"text-align: right;\">\n",
              "      <th></th>\n",
              "      <th>age</th>\n",
              "      <th>height</th>\n",
              "      <th>weight</th>\n",
              "      <th>ap_hi</th>\n",
              "      <th>ap_lo</th>\n",
              "    </tr>\n",
              "  </thead>\n",
              "  <tbody>\n",
              "    <tr>\n",
              "      <th>0</th>\n",
              "      <td>0.600000</td>\n",
              "      <td>0.579487</td>\n",
              "      <td>0.269841</td>\n",
              "      <td>0.202703</td>\n",
              "      <td>0.372093</td>\n",
              "    </tr>\n",
              "    <tr>\n",
              "      <th>1</th>\n",
              "      <td>0.742857</td>\n",
              "      <td>0.517949</td>\n",
              "      <td>0.391534</td>\n",
              "      <td>0.608108</td>\n",
              "      <td>0.604651</td>\n",
              "    </tr>\n",
              "    <tr>\n",
              "      <th>2</th>\n",
              "      <td>0.628571</td>\n",
              "      <td>0.564103</td>\n",
              "      <td>0.280423</td>\n",
              "      <td>0.472973</td>\n",
              "      <td>0.139535</td>\n",
              "    </tr>\n",
              "    <tr>\n",
              "      <th>3</th>\n",
              "      <td>0.542857</td>\n",
              "      <td>0.584615</td>\n",
              "      <td>0.375661</td>\n",
              "      <td>0.743243</td>\n",
              "      <td>0.837209</td>\n",
              "    </tr>\n",
              "    <tr>\n",
              "      <th>4</th>\n",
              "      <td>0.885714</td>\n",
              "      <td>0.492308</td>\n",
              "      <td>0.296296</td>\n",
              "      <td>0.337838</td>\n",
              "      <td>0.372093</td>\n",
              "    </tr>\n",
              "  </tbody>\n",
              "</table>\n",
              "</div>"
            ],
            "text/plain": [
              "        age    height    weight     ap_hi     ap_lo\n",
              "0  0.600000  0.579487  0.269841  0.202703  0.372093\n",
              "1  0.742857  0.517949  0.391534  0.608108  0.604651\n",
              "2  0.628571  0.564103  0.280423  0.472973  0.139535\n",
              "3  0.542857  0.584615  0.375661  0.743243  0.837209\n",
              "4  0.885714  0.492308  0.296296  0.337838  0.372093"
            ]
          },
          "metadata": {
            "tags": []
          },
          "execution_count": 26
        }
      ]
    },
    {
      "cell_type": "code",
      "metadata": {
        "colab": {
          "base_uri": "https://localhost:8080/",
          "height": 203
        },
        "id": "sEEdDzKy-S9b",
        "outputId": "1d05bb44-4a0b-4424-befd-0d8cb87ba6e3"
      },
      "source": [
        "for col in ord_cols:\n",
        "    dummies = pd.get_dummies(new_df[col])\n",
        "    min_ind = min([ind for ind in dummies.columns])\n",
        "    dummies.columns = ['{0}_{1}'.format(col, ind) for ind in dummies.columns]\n",
        "    df_normalized = pd.concat([df_normalized, dummies.drop(['{0}_{1}'.format(col, min_ind)], axis=1)], axis=1)\n",
        "\n",
        "    \n",
        "df_normalized.head()"
      ],
      "execution_count": null,
      "outputs": [
        {
          "output_type": "execute_result",
          "data": {
            "text/html": [
              "<div>\n",
              "<style scoped>\n",
              "    .dataframe tbody tr th:only-of-type {\n",
              "        vertical-align: middle;\n",
              "    }\n",
              "\n",
              "    .dataframe tbody tr th {\n",
              "        vertical-align: top;\n",
              "    }\n",
              "\n",
              "    .dataframe thead th {\n",
              "        text-align: right;\n",
              "    }\n",
              "</style>\n",
              "<table border=\"1\" class=\"dataframe\">\n",
              "  <thead>\n",
              "    <tr style=\"text-align: right;\">\n",
              "      <th></th>\n",
              "      <th>age</th>\n",
              "      <th>height</th>\n",
              "      <th>weight</th>\n",
              "      <th>ap_hi</th>\n",
              "      <th>ap_lo</th>\n",
              "      <th>cholesterol_0.5</th>\n",
              "      <th>cholesterol_1.0</th>\n",
              "      <th>gluc_2</th>\n",
              "      <th>gluc_3</th>\n",
              "    </tr>\n",
              "  </thead>\n",
              "  <tbody>\n",
              "    <tr>\n",
              "      <th>0</th>\n",
              "      <td>0.600000</td>\n",
              "      <td>0.579487</td>\n",
              "      <td>0.269841</td>\n",
              "      <td>0.202703</td>\n",
              "      <td>0.372093</td>\n",
              "      <td>0.0</td>\n",
              "      <td>0.0</td>\n",
              "      <td>0.0</td>\n",
              "      <td>0.0</td>\n",
              "    </tr>\n",
              "    <tr>\n",
              "      <th>1</th>\n",
              "      <td>0.742857</td>\n",
              "      <td>0.517949</td>\n",
              "      <td>0.391534</td>\n",
              "      <td>0.608108</td>\n",
              "      <td>0.604651</td>\n",
              "      <td>0.0</td>\n",
              "      <td>1.0</td>\n",
              "      <td>0.0</td>\n",
              "      <td>0.0</td>\n",
              "    </tr>\n",
              "    <tr>\n",
              "      <th>2</th>\n",
              "      <td>0.628571</td>\n",
              "      <td>0.564103</td>\n",
              "      <td>0.280423</td>\n",
              "      <td>0.472973</td>\n",
              "      <td>0.139535</td>\n",
              "      <td>0.0</td>\n",
              "      <td>1.0</td>\n",
              "      <td>0.0</td>\n",
              "      <td>0.0</td>\n",
              "    </tr>\n",
              "    <tr>\n",
              "      <th>3</th>\n",
              "      <td>0.542857</td>\n",
              "      <td>0.584615</td>\n",
              "      <td>0.375661</td>\n",
              "      <td>0.743243</td>\n",
              "      <td>0.837209</td>\n",
              "      <td>0.0</td>\n",
              "      <td>0.0</td>\n",
              "      <td>0.0</td>\n",
              "      <td>0.0</td>\n",
              "    </tr>\n",
              "    <tr>\n",
              "      <th>4</th>\n",
              "      <td>0.885714</td>\n",
              "      <td>0.492308</td>\n",
              "      <td>0.296296</td>\n",
              "      <td>0.337838</td>\n",
              "      <td>0.372093</td>\n",
              "      <td>NaN</td>\n",
              "      <td>NaN</td>\n",
              "      <td>NaN</td>\n",
              "      <td>NaN</td>\n",
              "    </tr>\n",
              "  </tbody>\n",
              "</table>\n",
              "</div>"
            ],
            "text/plain": [
              "        age    height    weight  ...  cholesterol_1.0  gluc_2  gluc_3\n",
              "0  0.600000  0.579487  0.269841  ...              0.0     0.0     0.0\n",
              "1  0.742857  0.517949  0.391534  ...              1.0     0.0     0.0\n",
              "2  0.628571  0.564103  0.280423  ...              1.0     0.0     0.0\n",
              "3  0.542857  0.584615  0.375661  ...              0.0     0.0     0.0\n",
              "4  0.885714  0.492308  0.296296  ...              NaN     NaN     NaN\n",
              "\n",
              "[5 rows x 9 columns]"
            ]
          },
          "metadata": {
            "tags": []
          },
          "execution_count": 27
        }
      ]
    },
    {
      "cell_type": "code",
      "metadata": {
        "colab": {
          "base_uri": "https://localhost:8080/",
          "height": 203
        },
        "id": "JY08HwMH_6ZK",
        "outputId": "387d7aee-c37b-455f-a7c8-1288dc1e2687"
      },
      "source": [
        "df_normalized = pd.concat([df_normalized, new_df[bin_cols]], axis=1)\n",
        "df_normalized['gender'] -= 1 \n",
        "\n",
        "df_normalized.head()"
      ],
      "execution_count": null,
      "outputs": [
        {
          "output_type": "execute_result",
          "data": {
            "text/html": [
              "<div>\n",
              "<style scoped>\n",
              "    .dataframe tbody tr th:only-of-type {\n",
              "        vertical-align: middle;\n",
              "    }\n",
              "\n",
              "    .dataframe tbody tr th {\n",
              "        vertical-align: top;\n",
              "    }\n",
              "\n",
              "    .dataframe thead th {\n",
              "        text-align: right;\n",
              "    }\n",
              "</style>\n",
              "<table border=\"1\" class=\"dataframe\">\n",
              "  <thead>\n",
              "    <tr style=\"text-align: right;\">\n",
              "      <th></th>\n",
              "      <th>age</th>\n",
              "      <th>height</th>\n",
              "      <th>weight</th>\n",
              "      <th>ap_hi</th>\n",
              "      <th>ap_lo</th>\n",
              "      <th>cholesterol_0.5</th>\n",
              "      <th>cholesterol_1.0</th>\n",
              "      <th>gluc_2</th>\n",
              "      <th>gluc_3</th>\n",
              "      <th>gender</th>\n",
              "      <th>smoke</th>\n",
              "      <th>alco</th>\n",
              "      <th>active</th>\n",
              "      <th>cardio</th>\n",
              "    </tr>\n",
              "  </thead>\n",
              "  <tbody>\n",
              "    <tr>\n",
              "      <th>0</th>\n",
              "      <td>0.600000</td>\n",
              "      <td>0.579487</td>\n",
              "      <td>0.269841</td>\n",
              "      <td>0.202703</td>\n",
              "      <td>0.372093</td>\n",
              "      <td>0.0</td>\n",
              "      <td>0.0</td>\n",
              "      <td>0.0</td>\n",
              "      <td>0.0</td>\n",
              "      <td>0.0</td>\n",
              "      <td>0.0</td>\n",
              "      <td>0.0</td>\n",
              "      <td>1.0</td>\n",
              "      <td>0.0</td>\n",
              "    </tr>\n",
              "    <tr>\n",
              "      <th>1</th>\n",
              "      <td>0.742857</td>\n",
              "      <td>0.517949</td>\n",
              "      <td>0.391534</td>\n",
              "      <td>0.608108</td>\n",
              "      <td>0.604651</td>\n",
              "      <td>0.0</td>\n",
              "      <td>1.0</td>\n",
              "      <td>0.0</td>\n",
              "      <td>0.0</td>\n",
              "      <td>-1.0</td>\n",
              "      <td>0.0</td>\n",
              "      <td>0.0</td>\n",
              "      <td>1.0</td>\n",
              "      <td>1.0</td>\n",
              "    </tr>\n",
              "    <tr>\n",
              "      <th>2</th>\n",
              "      <td>0.628571</td>\n",
              "      <td>0.564103</td>\n",
              "      <td>0.280423</td>\n",
              "      <td>0.472973</td>\n",
              "      <td>0.139535</td>\n",
              "      <td>0.0</td>\n",
              "      <td>1.0</td>\n",
              "      <td>0.0</td>\n",
              "      <td>0.0</td>\n",
              "      <td>-1.0</td>\n",
              "      <td>0.0</td>\n",
              "      <td>0.0</td>\n",
              "      <td>0.0</td>\n",
              "      <td>1.0</td>\n",
              "    </tr>\n",
              "    <tr>\n",
              "      <th>3</th>\n",
              "      <td>0.542857</td>\n",
              "      <td>0.584615</td>\n",
              "      <td>0.375661</td>\n",
              "      <td>0.743243</td>\n",
              "      <td>0.837209</td>\n",
              "      <td>0.0</td>\n",
              "      <td>0.0</td>\n",
              "      <td>0.0</td>\n",
              "      <td>0.0</td>\n",
              "      <td>0.0</td>\n",
              "      <td>0.0</td>\n",
              "      <td>0.0</td>\n",
              "      <td>1.0</td>\n",
              "      <td>1.0</td>\n",
              "    </tr>\n",
              "    <tr>\n",
              "      <th>4</th>\n",
              "      <td>0.885714</td>\n",
              "      <td>0.492308</td>\n",
              "      <td>0.296296</td>\n",
              "      <td>0.337838</td>\n",
              "      <td>0.372093</td>\n",
              "      <td>NaN</td>\n",
              "      <td>NaN</td>\n",
              "      <td>NaN</td>\n",
              "      <td>NaN</td>\n",
              "      <td>NaN</td>\n",
              "      <td>NaN</td>\n",
              "      <td>NaN</td>\n",
              "      <td>NaN</td>\n",
              "      <td>NaN</td>\n",
              "    </tr>\n",
              "  </tbody>\n",
              "</table>\n",
              "</div>"
            ],
            "text/plain": [
              "        age    height    weight     ap_hi  ...  smoke  alco  active  cardio\n",
              "0  0.600000  0.579487  0.269841  0.202703  ...    0.0   0.0     1.0     0.0\n",
              "1  0.742857  0.517949  0.391534  0.608108  ...    0.0   0.0     1.0     1.0\n",
              "2  0.628571  0.564103  0.280423  0.472973  ...    0.0   0.0     0.0     1.0\n",
              "3  0.542857  0.584615  0.375661  0.743243  ...    0.0   0.0     1.0     1.0\n",
              "4  0.885714  0.492308  0.296296  0.337838  ...    NaN   NaN     NaN     NaN\n",
              "\n",
              "[5 rows x 14 columns]"
            ]
          },
          "metadata": {
            "tags": []
          },
          "execution_count": 28
        }
      ]
    },
    {
      "cell_type": "code",
      "metadata": {
        "colab": {
          "base_uri": "https://localhost:8080/"
        },
        "id": "kcLkk8UWAHBV",
        "outputId": "c9151cda-697e-42e4-ecbd-e1330620936e"
      },
      "source": [
        "df_normalized= df_normalized.dropna()\n",
        "print(df_normalized.shape)\n",
        "X = df_normalized.drop('cardio', axis=1)\n",
        "y = df_normalized['cardio']\n"
      ],
      "execution_count": null,
      "outputs": [
        {
          "output_type": "stream",
          "text": [
            "(58174, 14)\n"
          ],
          "name": "stdout"
        }
      ]
    },
    {
      "cell_type": "code",
      "metadata": {
        "id": "vzc3fW_EAVhH"
      },
      "source": [
        "\n",
        "X_train, X_test, y_train, y_test = train_test_split(X, y, test_size=0.2,random_state=42)"
      ],
      "execution_count": null,
      "outputs": []
    },
    {
      "cell_type": "code",
      "metadata": {
        "id": "7ENVzC9vhYtu"
      },
      "source": [
        "from sklearn import *\n",
        "from lightgbm import LGBMClassifier\n",
        "import time\n",
        "from sklearn.metrics import accuracy_score\n",
        "from sklearn.metrics import roc_auc_score\n",
        "from sklearn.metrics import confusion_matrix"
      ],
      "execution_count": 24,
      "outputs": []
    },
    {
      "cell_type": "code",
      "metadata": {
        "colab": {
          "base_uri": "https://localhost:8080/"
        },
        "id": "gHgtsC68i7wz",
        "outputId": "a6ed8b26-bc9a-4f53-af75-96cabe73e202"
      },
      "source": [
        "import lightgbm as lgb\n",
        "d_train = lgb.Dataset(X_train, label=y_train)\n",
        "params = {}\n",
        "params['learning_rate'] = 0.005\n",
        "params['boosting_type'] = 'gbdt'\n",
        "params['objective'] = 'binary'\n",
        "params['metric'] = 'binary_logloss'\n",
        "params['sub_feature'] = 0.5\n",
        "params['num_leaves'] = 10\n",
        "params['min_data'] = 50\n",
        "params['max_depth'] = 10\n",
        "t = time.time()\n",
        "clf = lgb.train(params, d_train, 100)\n",
        "print(f'Done, time = {time.time() - t}')"
      ],
      "execution_count": 33,
      "outputs": [
        {
          "output_type": "stream",
          "text": [
            "Done, time = 0.4365816116333008\n"
          ],
          "name": "stdout"
        }
      ]
    },
    {
      "cell_type": "code",
      "metadata": {
        "colab": {
          "base_uri": "https://localhost:8080/"
        },
        "id": "0tl1C5g3henX",
        "outputId": "5028c251-d79e-4a4b-acbc-9633b4e12dd2"
      },
      "source": [
        "import lightgbm as lgb\n",
        "clf = lgb.LGBMClassifier()\n",
        "clf.fit(X_train, y_train)"
      ],
      "execution_count": 34,
      "outputs": [
        {
          "output_type": "execute_result",
          "data": {
            "text/plain": [
              "LGBMClassifier(boosting_type='gbdt', class_weight=None, colsample_bytree=1.0,\n",
              "               importance_type='split', learning_rate=0.1, max_depth=-1,\n",
              "               min_child_samples=20, min_child_weight=0.001, min_split_gain=0.0,\n",
              "               n_estimators=100, n_jobs=-1, num_leaves=31, objective=None,\n",
              "               random_state=None, reg_alpha=0.0, reg_lambda=0.0, silent=True,\n",
              "               subsample=1.0, subsample_for_bin=200000, subsample_freq=0)"
            ]
          },
          "metadata": {
            "tags": []
          },
          "execution_count": 34
        }
      ]
    },
    {
      "cell_type": "code",
      "metadata": {
        "id": "tNoxaVWXjq7o"
      },
      "source": [
        "# predict the results\n",
        "y_pred=clf.predict(X_test)"
      ],
      "execution_count": 35,
      "outputs": []
    },
    {
      "cell_type": "code",
      "metadata": {
        "colab": {
          "base_uri": "https://localhost:8080/"
        },
        "id": "qFnZFk2Mjtgu",
        "outputId": "5f88850a-7aac-4c4e-f076-024558e85c4c"
      },
      "source": [
        "accuracy=accuracy_score(y_pred, y_test)\n",
        "print('LightGBM Model accuracy score: {0:0.4f}'.format(accuracy_score(y_test, y_pred)))"
      ],
      "execution_count": 36,
      "outputs": [
        {
          "output_type": "stream",
          "text": [
            "LightGBM Model accuracy score: 0.7319\n"
          ],
          "name": "stdout"
        }
      ]
    },
    {
      "cell_type": "code",
      "metadata": {
        "id": "0VJt0ObTjtj3"
      },
      "source": [
        "y_pred_train = clf.predict(X_train)"
      ],
      "execution_count": 37,
      "outputs": []
    },
    {
      "cell_type": "code",
      "metadata": {
        "colab": {
          "base_uri": "https://localhost:8080/"
        },
        "id": "pc8T38oVjtne",
        "outputId": "735608ae-616e-436d-9745-dee1d015891b"
      },
      "source": [
        "print('Training-set accuracy score: {0:0.4f}'. format(accuracy_score(y_train, y_pred_train)))"
      ],
      "execution_count": 38,
      "outputs": [
        {
          "output_type": "stream",
          "text": [
            "Training-set accuracy score: 0.7399\n"
          ],
          "name": "stdout"
        }
      ]
    },
    {
      "cell_type": "code",
      "metadata": {
        "colab": {
          "base_uri": "https://localhost:8080/"
        },
        "id": "aFyw33YSjtpN",
        "outputId": "de986905-7e95-486c-ab62-cbb8402e3d79"
      },
      "source": [
        "# print the scores on training and test set\n",
        "\n",
        "print('Training set score: {:.4f}'.format(clf.score(X_train, y_train)))\n",
        "\n",
        "print('Test set score: {:.4f}'.format(clf.score(X_test, y_test)))"
      ],
      "execution_count": 39,
      "outputs": [
        {
          "output_type": "stream",
          "text": [
            "Training set score: 0.7399\n",
            "Test set score: 0.7319\n"
          ],
          "name": "stdout"
        }
      ]
    },
    {
      "cell_type": "code",
      "metadata": {
        "colab": {
          "base_uri": "https://localhost:8080/"
        },
        "id": "-OA7ZZuMjtsH",
        "outputId": "1f86e2f6-31f3-4e39-ac0d-722326e38479"
      },
      "source": [
        "# view confusion-matrix\n",
        "# Print the Confusion Matrix and slice it into four pieces\n",
        "\n",
        "from sklearn.metrics import confusion_matrix\n",
        "cm = confusion_matrix(y_test, y_pred)\n",
        "print('Confusion matrix\\n\\n', cm)\n",
        "print('\\nTrue Positives(TP) = ', cm[0,0])\n",
        "print('\\nTrue Negatives(TN) = ', cm[1,1])\n",
        "print('\\nFalse Positives(FP) = ', cm[0,1])\n",
        "print('\\nFalse Negatives(FN) = ', cm[1,0])"
      ],
      "execution_count": 40,
      "outputs": [
        {
          "output_type": "stream",
          "text": [
            "Confusion matrix\n",
            "\n",
            " [[4986 1462]\n",
            " [1959 4355]]\n",
            "\n",
            "True Positives(TP) =  4986\n",
            "\n",
            "True Negatives(TN) =  4355\n",
            "\n",
            "False Positives(FP) =  1462\n",
            "\n",
            "False Negatives(FN) =  1959\n"
          ],
          "name": "stdout"
        }
      ]
    },
    {
      "cell_type": "code",
      "metadata": {
        "colab": {
          "base_uri": "https://localhost:8080/",
          "height": 299
        },
        "id": "lrzy3G7UjtvP",
        "outputId": "99107d80-bd5e-4a47-c0a4-a52edd4423c1"
      },
      "source": [
        "# visualize confusion matrix with seaborn heatmap\n",
        "\n",
        "cm_matrix = pd.DataFrame(data=cm, columns=['Actual Positive:1', 'Actual Negative:0'], \n",
        "                                 index=['Predict Positive:1', 'Predict Negative:0'])\n",
        "\n",
        "sns.heatmap(cm_matrix, annot=True, fmt='d', cmap='YlGnBu')"
      ],
      "execution_count": 41,
      "outputs": [
        {
          "output_type": "execute_result",
          "data": {
            "text/plain": [
              "<matplotlib.axes._subplots.AxesSubplot at 0x7f831a15d550>"
            ]
          },
          "metadata": {
            "tags": []
          },
          "execution_count": 41
        },
        {
          "output_type": "display_data",
          "data": {
            "image/png": "[encoded data removed]",
            "text/plain": [
              "<Figure size 432x288 with 2 Axes>"
            ]
          },
          "metadata": {
            "tags": [],
            "needs_background": "light"
          }
        }
      ]
    },
    {
      "cell_type": "code",
      "metadata": {
        "colab": {
          "base_uri": "https://localhost:8080/"
        },
        "id": "qaWtlexDkH9e",
        "outputId": "e1ec3fee-5930-452a-a9c0-73202febffcc"
      },
      "source": [
        "from sklearn.metrics import classification_report\n",
        "print(classification_report(y_test, y_pred))"
      ],
      "execution_count": 43,
      "outputs": [
        {
          "output_type": "stream",
          "text": [
            "              precision    recall  f1-score   support\n",
            "\n",
            "           0       0.72      0.77      0.74      6448\n",
            "           1       0.75      0.69      0.72      6314\n",
            "\n",
            "    accuracy                           0.73     12762\n",
            "   macro avg       0.73      0.73      0.73     12762\n",
            "weighted avg       0.73      0.73      0.73     12762\n",
            "\n"
          ],
          "name": "stdout"
        }
      ]
    },
    {
      "cell_type": "code",
      "metadata": {
        "colab": {
          "base_uri": "https://localhost:8080/"
        },
        "id": "EAy-i8ymkIAR",
        "outputId": "a8a0aac2-0963-4e98-9a4d-fd0fa23afc14"
      },
      "source": [
        "import joblib\n",
        "joblib_file = \"/content/lgb_cardio_dummy.pkl\"  \n",
        "joblib.dump(clf, joblib_file)"
      ],
      "execution_count": 45,
      "outputs": [
        {
          "output_type": "execute_result",
          "data": {
            "text/plain": [
              "['/content/lgb_cardio_dummy.pkl']"
            ]
          },
          "metadata": {
            "tags": []
          },
          "execution_count": 45
        }
      ]
    },
    {
      "cell_type": "code",
      "metadata": {
        "id": "qnq7Ryu7kIEP"
      },
      "source": [
        ""
      ],
      "execution_count": null,
      "outputs": []
    },
    {
      "cell_type": "code",
      "metadata": {
        "id": "boKtL8aVkIFv"
      },
      "source": [
        ""
      ],
      "execution_count": null,
      "outputs": []
    },
    {
      "cell_type": "code",
      "metadata": {
        "id": "eiH3rfg1Y08o"
      },
      "source": [
        "from sklearn import svm,metrics\n",
        "clf = svm.SVC()"
      ],
      "execution_count": null,
      "outputs": []
    },
    {
      "cell_type": "code",
      "metadata": {
        "colab": {
          "base_uri": "https://localhost:8080/"
        },
        "id": "QQmOYP0CZGGQ",
        "outputId": "e4dd6b56-bfff-4314-a980-bc8342c31ccf"
      },
      "source": [
        "clf.fit(X_train, y_train)"
      ],
      "execution_count": null,
      "outputs": [
        {
          "output_type": "execute_result",
          "data": {
            "text/plain": [
              "SVC(C=1.0, break_ties=False, cache_size=200, class_weight=None, coef0=0.0,\n",
              "    decision_function_shape='ovr', degree=3, gamma='scale', kernel='rbf',\n",
              "    max_iter=-1, probability=False, random_state=None, shrinking=True,\n",
              "    tol=0.001, verbose=False)"
            ]
          },
          "metadata": {
            "tags": []
          },
          "execution_count": 32
        }
      ]
    },
    {
      "cell_type": "code",
      "metadata": {
        "id": "atgYVuBkA3id"
      },
      "source": [
        "def evaluate_model(clf, X_test, y_test):\n",
        "\n",
        "    y_pred = clf.predict(X_test)\n",
        "    print(\"Accuracy:\",metrics.accuracy_score(y_test, y_pred))\n",
        "    print(\"Precision:\",metrics.precision_score(y_test, y_pred))\n",
        "    print(\"Recall:\",metrics.recall_score(y_test, y_pred))\n"
      ],
      "execution_count": null,
      "outputs": []
    },
    {
      "cell_type": "code",
      "metadata": {
        "colab": {
          "base_uri": "https://localhost:8080/"
        },
        "id": "5zQ4z6ilCBg9",
        "outputId": "5109526c-2169-4fb9-f332-57c618808d99"
      },
      "source": [
        "evaluate_model(clf, X_test, y_test)\n"
      ],
      "execution_count": null,
      "outputs": [
        {
          "output_type": "stream",
          "text": [
            "Accuracy: 0.5931241942415126\n",
            "Precision: 0.631483870967742\n",
            "Recall: 0.42534329914827046\n"
          ],
          "name": "stdout"
        }
      ]
    },
    {
      "cell_type": "code",
      "metadata": {
        "id": "WACzTTR3ZxtA"
      },
      "source": [
        "from keras.models import Sequential\n",
        "from keras.layers import Dense\n",
        "from keras.layers import BatchNormalization"
      ],
      "execution_count": null,
      "outputs": []
    },
    {
      "cell_type": "code",
      "metadata": {
        "id": "YcLLBRiaaW46"
      },
      "source": [
        "model = Sequential()\n",
        "model.add(Dense(128, input_dim=13, activation='relu'))\n",
        "model.add(BatchNormalization())\n",
        "model.add(Dense(64, activation='relu'))\n",
        "model.add(BatchNormalization())\n",
        "model.add(Dense(32, activation='relu'))\n",
        "model.add(BatchNormalization())\n",
        "model.add(Dense(16, activation='relu'))\n",
        "model.add(BatchNormalization())\n",
        "model.add(Dense(8, activation='relu'))\n",
        "model.add(BatchNormalization())\n",
        "model.add(Dense(1, activation='sigmoid'))"
      ],
      "execution_count": null,
      "outputs": []
    },
    {
      "cell_type": "code",
      "metadata": {
        "colab": {
          "base_uri": "https://localhost:8080/"
        },
        "id": "Tn_MECbzcmee",
        "outputId": "a2f8ce83-5568-4869-8ee1-44bf935a7687"
      },
      "source": [
        "model.summary()"
      ],
      "execution_count": null,
      "outputs": [
        {
          "output_type": "stream",
          "text": [
            "Model: \"sequential_1\"\n",
            "_________________________________________________________________\n",
            "Layer (type)                 Output Shape              Param #   \n",
            "=================================================================\n",
            "dense_6 (Dense)              (None, 128)               1792      \n",
            "_________________________________________________________________\n",
            "batch_normalization_5 (Batch (None, 128)               512       \n",
            "_________________________________________________________________\n",
            "dense_7 (Dense)              (None, 64)                8256      \n",
            "_________________________________________________________________\n",
            "batch_normalization_6 (Batch (None, 64)                256       \n",
            "_________________________________________________________________\n",
            "dense_8 (Dense)              (None, 32)                2080      \n",
            "_________________________________________________________________\n",
            "batch_normalization_7 (Batch (None, 32)                128       \n",
            "_________________________________________________________________\n",
            "dense_9 (Dense)              (None, 16)                528       \n",
            "_________________________________________________________________\n",
            "batch_normalization_8 (Batch (None, 16)                64        \n",
            "_________________________________________________________________\n",
            "dense_10 (Dense)             (None, 8)                 136       \n",
            "_________________________________________________________________\n",
            "batch_normalization_9 (Batch (None, 8)                 32        \n",
            "_________________________________________________________________\n",
            "dense_11 (Dense)             (None, 1)                 9         \n",
            "=================================================================\n",
            "Total params: 13,793\n",
            "Trainable params: 13,297\n",
            "Non-trainable params: 496\n",
            "_________________________________________________________________\n"
          ],
          "name": "stdout"
        }
      ]
    },
    {
      "cell_type": "code",
      "metadata": {
        "id": "FlC5Zq-PdWiv"
      },
      "source": [
        "#Normalizing the data\n",
        "from sklearn.preprocessing import StandardScaler\n",
        "sc = StandardScaler()\n",
        "X = sc.fit_transform(X)"
      ],
      "execution_count": null,
      "outputs": []
    },
    {
      "cell_type": "code",
      "metadata": {
        "colab": {
          "base_uri": "https://localhost:8080/"
        },
        "id": "Wz8U08cBabpm",
        "outputId": "b1effa91-748e-4cbb-ab9a-2d46e2e903c5"
      },
      "source": [
        "model.compile(loss='binary_crossentropy', optimizer='adam', metrics=['accuracy'])\n",
        "# fit the keras model on the dataset\n",
        "model.fit(X_train, y_train, epochs=15, batch_size=16, verbose=1)\n"
      ],
      "execution_count": null,
      "outputs": [
        {
          "output_type": "stream",
          "text": [
            "Epoch 1/15\n",
            "2909/2909 [==============================] - 38s 7ms/step - loss: 0.7010 - accuracy: 0.5616\n",
            "Epoch 2/15\n",
            "2909/2909 [==============================] - 21s 7ms/step - loss: 0.6716 - accuracy: 0.5802\n",
            "Epoch 3/15\n",
            "2909/2909 [==============================] - 21s 7ms/step - loss: 0.6719 - accuracy: 0.5818\n",
            "Epoch 4/15\n",
            "2909/2909 [==============================] - 21s 7ms/step - loss: 0.6697 - accuracy: 0.5855\n",
            "Epoch 5/15\n",
            "2909/2909 [==============================] - 21s 7ms/step - loss: 0.6704 - accuracy: 0.5830\n",
            "Epoch 6/15\n",
            "2909/2909 [==============================] - 21s 7ms/step - loss: 0.6699 - accuracy: 0.5841\n",
            "Epoch 7/15\n",
            "2909/2909 [==============================] - 21s 7ms/step - loss: 0.6700 - accuracy: 0.5850\n",
            "Epoch 8/15\n",
            "2909/2909 [==============================] - 21s 7ms/step - loss: 0.6693 - accuracy: 0.5841\n",
            "Epoch 9/15\n",
            "2909/2909 [==============================] - 21s 7ms/step - loss: 0.6683 - accuracy: 0.5911\n",
            "Epoch 10/15\n",
            "2909/2909 [==============================] - 21s 7ms/step - loss: 0.6686 - accuracy: 0.5866\n",
            "Epoch 11/15\n",
            "2909/2909 [==============================] - 21s 7ms/step - loss: 0.6689 - accuracy: 0.5841\n",
            "Epoch 12/15\n",
            "2909/2909 [==============================] - 21s 7ms/step - loss: 0.6703 - accuracy: 0.5876\n",
            "Epoch 13/15\n",
            "2909/2909 [==============================] - 21s 7ms/step - loss: 0.6664 - accuracy: 0.5917\n",
            "Epoch 14/15\n",
            "2909/2909 [==============================] - 21s 7ms/step - loss: 0.6701 - accuracy: 0.5835\n",
            "Epoch 15/15\n",
            "2909/2909 [==============================] - 20s 7ms/step - loss: 0.6677 - accuracy: 0.5907\n"
          ],
          "name": "stdout"
        },
        {
          "output_type": "execute_result",
          "data": {
            "text/plain": [
              "<keras.callbacks.History at 0x7f38ce0ea3d0>"
            ]
          },
          "metadata": {
            "tags": []
          },
          "execution_count": 43
        }
      ]
    },
    {
      "cell_type": "code",
      "metadata": {
        "id": "1JRCMDSHaefv"
      },
      "source": [
        "# make class predictions with the model\n",
        "predictions = model.predict_classes(X)"
      ],
      "execution_count": null,
      "outputs": []
    },
    {
      "cell_type": "code",
      "metadata": {
        "colab": {
          "base_uri": "https://localhost:8080/"
        },
        "id": "C9eZi0CLSxWv",
        "outputId": "1559b7c7-ced3-4362-9afc-5a3c94351f26"
      },
      "source": [
        "predictions"
      ],
      "execution_count": null,
      "outputs": [
        {
          "output_type": "execute_result",
          "data": {
            "text/plain": [
              "array([[0],\n",
              "       [1],\n",
              "       [1],\n",
              "       ...,\n",
              "       [1],\n",
              "       [1],\n",
              "       [1]], dtype=int32)"
            ]
          },
          "metadata": {
            "tags": []
          },
          "execution_count": 45
        }
      ]
    },
    {
      "cell_type": "code",
      "metadata": {
        "id": "7Pin54PXSz4p"
      },
      "source": [
        ""
      ],
      "execution_count": null,
      "outputs": []
    },
    {
      "cell_type": "code",
      "metadata": {
        "id": "zTqRGBINS4-q"
      },
      "source": [
        ""
      ],
      "execution_count": null,
      "outputs": []
    }
  ]
}